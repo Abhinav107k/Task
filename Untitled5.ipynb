{
  "nbformat": 4,
  "nbformat_minor": 0,
  "metadata": {
    "colab": {
      "provenance": []
    },
    "kernelspec": {
      "name": "python3",
      "display_name": "Python 3"
    },
    "language_info": {
      "name": "python"
    }
  },
  "cells": [
    {
      "cell_type": "code",
      "execution_count": null,
      "metadata": {
        "colab": {
          "base_uri": "https://localhost:8080/"
        },
        "id": "Q0aS3i4ikSdy",
        "outputId": "13aed6cc-b465-4039-e7cf-ec11c74b7553"
      },
      "outputs": [
        {
          "output_type": "stream",
          "name": "stdout",
          "text": [
            "Requirement already satisfied: eccodes in /usr/local/lib/python3.10/dist-packages (1.7.1)\n",
            "Requirement already satisfied: numpy in /usr/local/lib/python3.10/dist-packages (from eccodes) (1.25.2)\n",
            "Requirement already satisfied: attrs in /usr/local/lib/python3.10/dist-packages (from eccodes) (23.2.0)\n",
            "Requirement already satisfied: cffi in /usr/local/lib/python3.10/dist-packages (from eccodes) (1.16.0)\n",
            "Requirement already satisfied: findlibs in /usr/local/lib/python3.10/dist-packages (from eccodes) (0.0.5)\n",
            "Requirement already satisfied: pycparser in /usr/local/lib/python3.10/dist-packages (from cffi->eccodes) (2.22)\n"
          ]
        }
      ],
      "source": [
        "pip install eccodes"
      ]
    },
    {
      "cell_type": "code",
      "source": [
        "!sudo apt update\n",
        "!sudo apt install libeccodes-dev"
      ],
      "metadata": {
        "colab": {
          "base_uri": "https://localhost:8080/"
        },
        "id": "ZFoziYvwkx_c",
        "outputId": "4d1b6464-7a6f-47c6-cf7b-6abadc645256"
      },
      "execution_count": null,
      "outputs": [
        {
          "output_type": "stream",
          "name": "stdout",
          "text": [
            "\u001b[33m\r0% [Working]\u001b[0m\r            \rGet:1 http://security.ubuntu.com/ubuntu jammy-security InRelease [129 kB]\n",
            "\u001b[33m\r0% [Connecting to archive.ubuntu.com] [1 InRelease 14.2 kB/129 kB 11%] [Connect\u001b[0m\u001b[33m\r0% [Connecting to archive.ubuntu.com] [Connected to cloud.r-project.org (65.9.8\u001b[0m\r                                                                               \rGet:2 https://cloud.r-project.org/bin/linux/ubuntu jammy-cran40/ InRelease [3,626 B]\n",
            "\u001b[33m\r0% [Connecting to archive.ubuntu.com] [Connecting to r2u.stat.illinois.edu (192\u001b[0m\r                                                                               \rHit:3 https://developer.download.nvidia.com/compute/cuda/repos/ubuntu2204/x86_64  InRelease\n",
            "Hit:4 https://ppa.launchpadcontent.net/deadsnakes/ppa/ubuntu jammy InRelease\n",
            "Get:5 https://ppa.launchpadcontent.net/graphics-drivers/ppa/ubuntu jammy InRelease [24.3 kB]\n",
            "Hit:6 https://ppa.launchpadcontent.net/ubuntugis/ppa/ubuntu jammy InRelease\n",
            "Hit:7 http://archive.ubuntu.com/ubuntu jammy InRelease\n",
            "Get:8 http://security.ubuntu.com/ubuntu jammy-security/restricted amd64 Packages [2,655 kB]\n",
            "Get:9 http://archive.ubuntu.com/ubuntu jammy-updates InRelease [128 kB]\n",
            "Get:10 http://security.ubuntu.com/ubuntu jammy-security/main amd64 Packages [2,034 kB]\n",
            "Get:11 http://security.ubuntu.com/ubuntu jammy-security/universe amd64 Packages [1,127 kB]\n",
            "Ign:12 https://r2u.stat.illinois.edu/ubuntu jammy InRelease\n",
            "Get:13 https://r2u.stat.illinois.edu/ubuntu jammy Release [5,713 B]\n",
            "Get:14 https://r2u.stat.illinois.edu/ubuntu jammy Release.gpg [793 B]\n",
            "Hit:15 http://archive.ubuntu.com/ubuntu jammy-backports InRelease\n",
            "Get:16 https://ppa.launchpadcontent.net/graphics-drivers/ppa/ubuntu jammy/main amd64 Packages [48.1 kB]\n",
            "Get:17 http://archive.ubuntu.com/ubuntu jammy-updates/restricted amd64 Packages [2,728 kB]\n",
            "Get:18 https://r2u.stat.illinois.edu/ubuntu jammy/main amd64 Packages [2,546 kB]\n",
            "Get:19 http://archive.ubuntu.com/ubuntu jammy-updates/universe amd64 Packages [1,411 kB]\n",
            "Get:20 http://archive.ubuntu.com/ubuntu jammy-updates/main amd64 Packages [2,299 kB]\n",
            "Get:21 https://r2u.stat.illinois.edu/ubuntu jammy/main all Packages [8,187 kB]\n",
            "Fetched 23.3 MB in 4s (5,811 kB/s)\n",
            "Reading package lists... Done\n",
            "Building dependency tree... Done\n",
            "Reading state information... Done\n",
            "46 packages can be upgraded. Run 'apt list --upgradable' to see them.\n",
            "\u001b[1;33mW: \u001b[0mSkipping acquire of configured file 'main/source/Sources' as repository 'https://r2u.stat.illinois.edu/ubuntu jammy InRelease' does not seem to provide it (sources.list entry misspelt?)\u001b[0m\n",
            "Reading package lists... Done\n",
            "Building dependency tree... Done\n",
            "Reading state information... Done\n",
            "The following additional packages will be installed:\n",
            "  libeccodes-data libeccodes0\n",
            "The following NEW packages will be installed:\n",
            "  libeccodes-data libeccodes-dev libeccodes0\n",
            "0 upgraded, 3 newly installed, 0 to remove and 46 not upgraded.\n",
            "Need to get 3,076 kB of archives.\n",
            "After this operation, 60.8 MB of additional disk space will be used.\n",
            "Get:1 http://archive.ubuntu.com/ubuntu jammy/universe amd64 libeccodes-data all 2.24.2-1 [1,592 kB]\n",
            "Get:2 http://archive.ubuntu.com/ubuntu jammy/universe amd64 libeccodes0 amd64 2.24.2-1 [614 kB]\n",
            "Get:3 http://archive.ubuntu.com/ubuntu jammy/universe amd64 libeccodes-dev amd64 2.24.2-1 [870 kB]\n",
            "Fetched 3,076 kB in 1s (3,495 kB/s)\n",
            "debconf: unable to initialize frontend: Dialog\n",
            "debconf: (No usable dialog-like program is installed, so the dialog based frontend cannot be used. at /usr/share/perl5/Debconf/FrontEnd/Dialog.pm line 78, <> line 3.)\n",
            "debconf: falling back to frontend: Readline\n",
            "debconf: unable to initialize frontend: Readline\n",
            "debconf: (This frontend requires a controlling tty.)\n",
            "debconf: falling back to frontend: Teletype\n",
            "dpkg-preconfigure: unable to re-open stdin: \n",
            "Selecting previously unselected package libeccodes-data.\n",
            "(Reading database ... 123576 files and directories currently installed.)\n",
            "Preparing to unpack .../libeccodes-data_2.24.2-1_all.deb ...\n",
            "Unpacking libeccodes-data (2.24.2-1) ...\n",
            "Selecting previously unselected package libeccodes0:amd64.\n",
            "Preparing to unpack .../libeccodes0_2.24.2-1_amd64.deb ...\n",
            "Unpacking libeccodes0:amd64 (2.24.2-1) ...\n",
            "Selecting previously unselected package libeccodes-dev:amd64.\n",
            "Preparing to unpack .../libeccodes-dev_2.24.2-1_amd64.deb ...\n",
            "Unpacking libeccodes-dev:amd64 (2.24.2-1) ...\n",
            "Setting up libeccodes-data (2.24.2-1) ...\n",
            "Setting up libeccodes0:amd64 (2.24.2-1) ...\n",
            "Setting up libeccodes-dev:amd64 (2.24.2-1) ...\n",
            "Processing triggers for libc-bin (2.35-0ubuntu3.4) ...\n",
            "/sbin/ldconfig.real: /usr/local/lib/libtbbmalloc_proxy.so.2 is not a symbolic link\n",
            "\n",
            "/sbin/ldconfig.real: /usr/local/lib/libtbbbind_2_5.so.3 is not a symbolic link\n",
            "\n",
            "/sbin/ldconfig.real: /usr/local/lib/libtbb.so.12 is not a symbolic link\n",
            "\n",
            "/sbin/ldconfig.real: /usr/local/lib/libtbbbind.so.3 is not a symbolic link\n",
            "\n",
            "/sbin/ldconfig.real: /usr/local/lib/libtbbbind_2_0.so.3 is not a symbolic link\n",
            "\n",
            "/sbin/ldconfig.real: /usr/local/lib/libtbbmalloc.so.2 is not a symbolic link\n",
            "\n"
          ]
        }
      ]
    },
    {
      "cell_type": "code",
      "source": [
        "import cfgrib"
      ],
      "metadata": {
        "colab": {
          "base_uri": "https://localhost:8080/"
        },
        "id": "o85XFw9tlBVR",
        "outputId": "d9328d13-26b7-49d5-a1ac-cfb2e96c29df"
      },
      "execution_count": null,
      "outputs": [
        {
          "output_type": "stream",
          "name": "stderr",
          "text": [
            "/usr/local/lib/python3.10/dist-packages/gribapi/__init__.py:23: UserWarning: ecCodes 2.31.0 or higher is recommended. You are running version 2.24.2\n",
            "  warnings.warn(\n"
          ]
        }
      ]
    },
    {
      "cell_type": "code",
      "source": [
        "import pandas as pd"
      ],
      "metadata": {
        "id": "7-iXCHjblDsu"
      },
      "execution_count": null,
      "outputs": []
    },
    {
      "cell_type": "code",
      "source": [
        "with cfgrib.open_dataset('/content/2007_11ERA5.grib') as ds:\n",
        "  print(ds)"
      ],
      "metadata": {
        "colab": {
          "base_uri": "https://localhost:8080/"
        },
        "id": "FvGyFfV1lIOO",
        "outputId": "64391524-6c83-4685-9b48-180e0d65b681"
      },
      "execution_count": null,
      "outputs": [
        {
          "output_type": "stream",
          "name": "stdout",
          "text": [
            "<xarray.Dataset>\n",
            "Dimensions:     (time: 43824, latitude: 1, longitude: 2)\n",
            "Coordinates:\n",
            "    number      int64 ...\n",
            "  * time        (time) datetime64[ns] 2007-01-01 ... 2011-12-31T23:00:00\n",
            "    step        timedelta64[ns] ...\n",
            "    surface     float64 ...\n",
            "  * latitude    (latitude) float64 72.7\n",
            "  * longitude   (longitude) float64 37.18 37.43\n",
            "    valid_time  (time) datetime64[ns] ...\n",
            "Data variables:\n",
            "    t2m         (time, latitude, longitude) float32 ...\n",
            "Attributes:\n",
            "    GRIB_edition:            1\n",
            "    GRIB_centre:             ecmf\n",
            "    GRIB_centreDescription:  European Centre for Medium-Range Weather Forecasts\n",
            "    GRIB_subCentre:          0\n",
            "    Conventions:             CF-1.7\n",
            "    institution:             European Centre for Medium-Range Weather Forecasts\n",
            "    history:                 2024-07-15T18:11 GRIB to CDM+CF via cfgrib-0.9.1...\n"
          ]
        }
      ]
    },
    {
      "cell_type": "code",
      "source": [
        "df=ds.to_dataframe()"
      ],
      "metadata": {
        "id": "Xv6OIIKKmGoX"
      },
      "execution_count": null,
      "outputs": []
    },
    {
      "cell_type": "code",
      "source": [
        "df.to_csv('intern.csv', index=False)"
      ],
      "metadata": {
        "id": "ZX-dh1A-mRiR"
      },
      "execution_count": null,
      "outputs": []
    },
    {
      "cell_type": "code",
      "source": [
        "pd.read_csv('intern.csv')"
      ],
      "metadata": {
        "colab": {
          "base_uri": "https://localhost:8080/",
          "height": 719
        },
        "id": "My-uJy41mdvd",
        "outputId": "c1004c15-42f0-4a68-c0f4-9b3eab223ec1"
      },
      "execution_count": null,
      "outputs": [
        {
          "output_type": "execute_result",
          "data": {
            "text/plain": [
              "       number    step  surface           valid_time        t2m\n",
              "0           0  0 days      0.0  2007-01-01 00:00:00  275.00964\n",
              "1           0  0 days      0.0  2007-01-01 00:00:00  274.89940\n",
              "2           0  0 days      0.0  2007-01-01 01:00:00  275.16050\n",
              "3           0  0 days      0.0  2007-01-01 01:00:00  275.06985\n",
              "4           0  0 days      0.0  2007-01-01 02:00:00  275.26593\n",
              "...       ...     ...      ...                  ...        ...\n",
              "87643       0  0 days      0.0  2011-12-31 21:00:00  271.36386\n",
              "87644       0  0 days      0.0  2011-12-31 22:00:00  271.69763\n",
              "87645       0  0 days      0.0  2011-12-31 22:00:00  271.67273\n",
              "87646       0  0 days      0.0  2011-12-31 23:00:00  272.04517\n",
              "87647       0  0 days      0.0  2011-12-31 23:00:00  271.97128\n",
              "\n",
              "[87648 rows x 5 columns]"
            ],
            "text/html": [
              "\n",
              "  <div id=\"df-9d0e3b07-142a-497e-b46a-7811caa11036\" class=\"colab-df-container\">\n",
              "    <div>\n",
              "<style scoped>\n",
              "    .dataframe tbody tr th:only-of-type {\n",
              "        vertical-align: middle;\n",
              "    }\n",
              "\n",
              "    .dataframe tbody tr th {\n",
              "        vertical-align: top;\n",
              "    }\n",
              "\n",
              "    .dataframe thead th {\n",
              "        text-align: right;\n",
              "    }\n",
              "</style>\n",
              "<table border=\"1\" class=\"dataframe\">\n",
              "  <thead>\n",
              "    <tr style=\"text-align: right;\">\n",
              "      <th></th>\n",
              "      <th>number</th>\n",
              "      <th>step</th>\n",
              "      <th>surface</th>\n",
              "      <th>valid_time</th>\n",
              "      <th>t2m</th>\n",
              "    </tr>\n",
              "  </thead>\n",
              "  <tbody>\n",
              "    <tr>\n",
              "      <th>0</th>\n",
              "      <td>0</td>\n",
              "      <td>0 days</td>\n",
              "      <td>0.0</td>\n",
              "      <td>2007-01-01 00:00:00</td>\n",
              "      <td>275.00964</td>\n",
              "    </tr>\n",
              "    <tr>\n",
              "      <th>1</th>\n",
              "      <td>0</td>\n",
              "      <td>0 days</td>\n",
              "      <td>0.0</td>\n",
              "      <td>2007-01-01 00:00:00</td>\n",
              "      <td>274.89940</td>\n",
              "    </tr>\n",
              "    <tr>\n",
              "      <th>2</th>\n",
              "      <td>0</td>\n",
              "      <td>0 days</td>\n",
              "      <td>0.0</td>\n",
              "      <td>2007-01-01 01:00:00</td>\n",
              "      <td>275.16050</td>\n",
              "    </tr>\n",
              "    <tr>\n",
              "      <th>3</th>\n",
              "      <td>0</td>\n",
              "      <td>0 days</td>\n",
              "      <td>0.0</td>\n",
              "      <td>2007-01-01 01:00:00</td>\n",
              "      <td>275.06985</td>\n",
              "    </tr>\n",
              "    <tr>\n",
              "      <th>4</th>\n",
              "      <td>0</td>\n",
              "      <td>0 days</td>\n",
              "      <td>0.0</td>\n",
              "      <td>2007-01-01 02:00:00</td>\n",
              "      <td>275.26593</td>\n",
              "    </tr>\n",
              "    <tr>\n",
              "      <th>...</th>\n",
              "      <td>...</td>\n",
              "      <td>...</td>\n",
              "      <td>...</td>\n",
              "      <td>...</td>\n",
              "      <td>...</td>\n",
              "    </tr>\n",
              "    <tr>\n",
              "      <th>87643</th>\n",
              "      <td>0</td>\n",
              "      <td>0 days</td>\n",
              "      <td>0.0</td>\n",
              "      <td>2011-12-31 21:00:00</td>\n",
              "      <td>271.36386</td>\n",
              "    </tr>\n",
              "    <tr>\n",
              "      <th>87644</th>\n",
              "      <td>0</td>\n",
              "      <td>0 days</td>\n",
              "      <td>0.0</td>\n",
              "      <td>2011-12-31 22:00:00</td>\n",
              "      <td>271.69763</td>\n",
              "    </tr>\n",
              "    <tr>\n",
              "      <th>87645</th>\n",
              "      <td>0</td>\n",
              "      <td>0 days</td>\n",
              "      <td>0.0</td>\n",
              "      <td>2011-12-31 22:00:00</td>\n",
              "      <td>271.67273</td>\n",
              "    </tr>\n",
              "    <tr>\n",
              "      <th>87646</th>\n",
              "      <td>0</td>\n",
              "      <td>0 days</td>\n",
              "      <td>0.0</td>\n",
              "      <td>2011-12-31 23:00:00</td>\n",
              "      <td>272.04517</td>\n",
              "    </tr>\n",
              "    <tr>\n",
              "      <th>87647</th>\n",
              "      <td>0</td>\n",
              "      <td>0 days</td>\n",
              "      <td>0.0</td>\n",
              "      <td>2011-12-31 23:00:00</td>\n",
              "      <td>271.97128</td>\n",
              "    </tr>\n",
              "  </tbody>\n",
              "</table>\n",
              "<p>87648 rows × 5 columns</p>\n",
              "</div>\n",
              "    <div class=\"colab-df-buttons\">\n",
              "\n",
              "  <div class=\"colab-df-container\">\n",
              "    <button class=\"colab-df-convert\" onclick=\"convertToInteractive('df-9d0e3b07-142a-497e-b46a-7811caa11036')\"\n",
              "            title=\"Convert this dataframe to an interactive table.\"\n",
              "            style=\"display:none;\">\n",
              "\n",
              "  <svg xmlns=\"http://www.w3.org/2000/svg\" height=\"24px\" viewBox=\"0 -960 960 960\">\n",
              "    <path d=\"M120-120v-720h720v720H120Zm60-500h600v-160H180v160Zm220 220h160v-160H400v160Zm0 220h160v-160H400v160ZM180-400h160v-160H180v160Zm440 0h160v-160H620v160ZM180-180h160v-160H180v160Zm440 0h160v-160H620v160Z\"/>\n",
              "  </svg>\n",
              "    </button>\n",
              "\n",
              "  <style>\n",
              "    .colab-df-container {\n",
              "      display:flex;\n",
              "      gap: 12px;\n",
              "    }\n",
              "\n",
              "    .colab-df-convert {\n",
              "      background-color: #E8F0FE;\n",
              "      border: none;\n",
              "      border-radius: 50%;\n",
              "      cursor: pointer;\n",
              "      display: none;\n",
              "      fill: #1967D2;\n",
              "      height: 32px;\n",
              "      padding: 0 0 0 0;\n",
              "      width: 32px;\n",
              "    }\n",
              "\n",
              "    .colab-df-convert:hover {\n",
              "      background-color: #E2EBFA;\n",
              "      box-shadow: 0px 1px 2px rgba(60, 64, 67, 0.3), 0px 1px 3px 1px rgba(60, 64, 67, 0.15);\n",
              "      fill: #174EA6;\n",
              "    }\n",
              "\n",
              "    .colab-df-buttons div {\n",
              "      margin-bottom: 4px;\n",
              "    }\n",
              "\n",
              "    [theme=dark] .colab-df-convert {\n",
              "      background-color: #3B4455;\n",
              "      fill: #D2E3FC;\n",
              "    }\n",
              "\n",
              "    [theme=dark] .colab-df-convert:hover {\n",
              "      background-color: #434B5C;\n",
              "      box-shadow: 0px 1px 3px 1px rgba(0, 0, 0, 0.15);\n",
              "      filter: drop-shadow(0px 1px 2px rgba(0, 0, 0, 0.3));\n",
              "      fill: #FFFFFF;\n",
              "    }\n",
              "  </style>\n",
              "\n",
              "    <script>\n",
              "      const buttonEl =\n",
              "        document.querySelector('#df-9d0e3b07-142a-497e-b46a-7811caa11036 button.colab-df-convert');\n",
              "      buttonEl.style.display =\n",
              "        google.colab.kernel.accessAllowed ? 'block' : 'none';\n",
              "\n",
              "      async function convertToInteractive(key) {\n",
              "        const element = document.querySelector('#df-9d0e3b07-142a-497e-b46a-7811caa11036');\n",
              "        const dataTable =\n",
              "          await google.colab.kernel.invokeFunction('convertToInteractive',\n",
              "                                                    [key], {});\n",
              "        if (!dataTable) return;\n",
              "\n",
              "        const docLinkHtml = 'Like what you see? Visit the ' +\n",
              "          '<a target=\"_blank\" href=https://colab.research.google.com/notebooks/data_table.ipynb>data table notebook</a>'\n",
              "          + ' to learn more about interactive tables.';\n",
              "        element.innerHTML = '';\n",
              "        dataTable['output_type'] = 'display_data';\n",
              "        await google.colab.output.renderOutput(dataTable, element);\n",
              "        const docLink = document.createElement('div');\n",
              "        docLink.innerHTML = docLinkHtml;\n",
              "        element.appendChild(docLink);\n",
              "      }\n",
              "    </script>\n",
              "  </div>\n",
              "\n",
              "\n",
              "<div id=\"df-413fcc66-f60b-4254-9466-aaa5c158e823\">\n",
              "  <button class=\"colab-df-quickchart\" onclick=\"quickchart('df-413fcc66-f60b-4254-9466-aaa5c158e823')\"\n",
              "            title=\"Suggest charts\"\n",
              "            style=\"display:none;\">\n",
              "\n",
              "<svg xmlns=\"http://www.w3.org/2000/svg\" height=\"24px\"viewBox=\"0 0 24 24\"\n",
              "     width=\"24px\">\n",
              "    <g>\n",
              "        <path d=\"M19 3H5c-1.1 0-2 .9-2 2v14c0 1.1.9 2 2 2h14c1.1 0 2-.9 2-2V5c0-1.1-.9-2-2-2zM9 17H7v-7h2v7zm4 0h-2V7h2v10zm4 0h-2v-4h2v4z\"/>\n",
              "    </g>\n",
              "</svg>\n",
              "  </button>\n",
              "\n",
              "<style>\n",
              "  .colab-df-quickchart {\n",
              "      --bg-color: #E8F0FE;\n",
              "      --fill-color: #1967D2;\n",
              "      --hover-bg-color: #E2EBFA;\n",
              "      --hover-fill-color: #174EA6;\n",
              "      --disabled-fill-color: #AAA;\n",
              "      --disabled-bg-color: #DDD;\n",
              "  }\n",
              "\n",
              "  [theme=dark] .colab-df-quickchart {\n",
              "      --bg-color: #3B4455;\n",
              "      --fill-color: #D2E3FC;\n",
              "      --hover-bg-color: #434B5C;\n",
              "      --hover-fill-color: #FFFFFF;\n",
              "      --disabled-bg-color: #3B4455;\n",
              "      --disabled-fill-color: #666;\n",
              "  }\n",
              "\n",
              "  .colab-df-quickchart {\n",
              "    background-color: var(--bg-color);\n",
              "    border: none;\n",
              "    border-radius: 50%;\n",
              "    cursor: pointer;\n",
              "    display: none;\n",
              "    fill: var(--fill-color);\n",
              "    height: 32px;\n",
              "    padding: 0;\n",
              "    width: 32px;\n",
              "  }\n",
              "\n",
              "  .colab-df-quickchart:hover {\n",
              "    background-color: var(--hover-bg-color);\n",
              "    box-shadow: 0 1px 2px rgba(60, 64, 67, 0.3), 0 1px 3px 1px rgba(60, 64, 67, 0.15);\n",
              "    fill: var(--button-hover-fill-color);\n",
              "  }\n",
              "\n",
              "  .colab-df-quickchart-complete:disabled,\n",
              "  .colab-df-quickchart-complete:disabled:hover {\n",
              "    background-color: var(--disabled-bg-color);\n",
              "    fill: var(--disabled-fill-color);\n",
              "    box-shadow: none;\n",
              "  }\n",
              "\n",
              "  .colab-df-spinner {\n",
              "    border: 2px solid var(--fill-color);\n",
              "    border-color: transparent;\n",
              "    border-bottom-color: var(--fill-color);\n",
              "    animation:\n",
              "      spin 1s steps(1) infinite;\n",
              "  }\n",
              "\n",
              "  @keyframes spin {\n",
              "    0% {\n",
              "      border-color: transparent;\n",
              "      border-bottom-color: var(--fill-color);\n",
              "      border-left-color: var(--fill-color);\n",
              "    }\n",
              "    20% {\n",
              "      border-color: transparent;\n",
              "      border-left-color: var(--fill-color);\n",
              "      border-top-color: var(--fill-color);\n",
              "    }\n",
              "    30% {\n",
              "      border-color: transparent;\n",
              "      border-left-color: var(--fill-color);\n",
              "      border-top-color: var(--fill-color);\n",
              "      border-right-color: var(--fill-color);\n",
              "    }\n",
              "    40% {\n",
              "      border-color: transparent;\n",
              "      border-right-color: var(--fill-color);\n",
              "      border-top-color: var(--fill-color);\n",
              "    }\n",
              "    60% {\n",
              "      border-color: transparent;\n",
              "      border-right-color: var(--fill-color);\n",
              "    }\n",
              "    80% {\n",
              "      border-color: transparent;\n",
              "      border-right-color: var(--fill-color);\n",
              "      border-bottom-color: var(--fill-color);\n",
              "    }\n",
              "    90% {\n",
              "      border-color: transparent;\n",
              "      border-bottom-color: var(--fill-color);\n",
              "    }\n",
              "  }\n",
              "</style>\n",
              "\n",
              "  <script>\n",
              "    async function quickchart(key) {\n",
              "      const quickchartButtonEl =\n",
              "        document.querySelector('#' + key + ' button');\n",
              "      quickchartButtonEl.disabled = true;  // To prevent multiple clicks.\n",
              "      quickchartButtonEl.classList.add('colab-df-spinner');\n",
              "      try {\n",
              "        const charts = await google.colab.kernel.invokeFunction(\n",
              "            'suggestCharts', [key], {});\n",
              "      } catch (error) {\n",
              "        console.error('Error during call to suggestCharts:', error);\n",
              "      }\n",
              "      quickchartButtonEl.classList.remove('colab-df-spinner');\n",
              "      quickchartButtonEl.classList.add('colab-df-quickchart-complete');\n",
              "    }\n",
              "    (() => {\n",
              "      let quickchartButtonEl =\n",
              "        document.querySelector('#df-413fcc66-f60b-4254-9466-aaa5c158e823 button');\n",
              "      quickchartButtonEl.style.display =\n",
              "        google.colab.kernel.accessAllowed ? 'block' : 'none';\n",
              "    })();\n",
              "  </script>\n",
              "</div>\n",
              "\n",
              "    </div>\n",
              "  </div>\n"
            ],
            "application/vnd.google.colaboratory.intrinsic+json": {
              "type": "dataframe",
              "summary": "{\n  \"name\": \"pd\",\n  \"rows\": 87648,\n  \"fields\": [\n    {\n      \"column\": \"number\",\n      \"properties\": {\n        \"dtype\": \"number\",\n        \"std\": 0,\n        \"min\": 0,\n        \"max\": 0,\n        \"num_unique_values\": 1,\n        \"samples\": [\n          0\n        ],\n        \"semantic_type\": \"\",\n        \"description\": \"\"\n      }\n    },\n    {\n      \"column\": \"step\",\n      \"properties\": {\n        \"dtype\": \"category\",\n        \"num_unique_values\": 1,\n        \"samples\": [\n          \"0 days\"\n        ],\n        \"semantic_type\": \"\",\n        \"description\": \"\"\n      }\n    },\n    {\n      \"column\": \"surface\",\n      \"properties\": {\n        \"dtype\": \"number\",\n        \"std\": 0.0,\n        \"min\": 0.0,\n        \"max\": 0.0,\n        \"num_unique_values\": 1,\n        \"samples\": [\n          0.0\n        ],\n        \"semantic_type\": \"\",\n        \"description\": \"\"\n      }\n    },\n    {\n      \"column\": \"valid_time\",\n      \"properties\": {\n        \"dtype\": \"object\",\n        \"num_unique_values\": 43824,\n        \"samples\": [\n          \"2009-06-21 08:00:00\"\n        ],\n        \"semantic_type\": \"\",\n        \"description\": \"\"\n      }\n    },\n    {\n      \"column\": \"t2m\",\n      \"properties\": {\n        \"dtype\": \"number\",\n        \"std\": 3.66877946979333,\n        \"min\": 262.8338,\n        \"max\": 283.06387,\n        \"num_unique_values\": 79340,\n        \"samples\": [\n          274.07532\n        ],\n        \"semantic_type\": \"\",\n        \"description\": \"\"\n      }\n    }\n  ]\n}"
            }
          },
          "metadata": {},
          "execution_count": 14
        },
        {
          "output_type": "stream",
          "name": "stdout",
          "text": [
            "Warning: total number of rows (87648) exceeds max_rows (20000). Limiting to first (20000) rows.\n"
          ]
        }
      ]
    },
    {
      "cell_type": "code",
      "source": [
        "!pip install xarray"
      ],
      "metadata": {
        "colab": {
          "base_uri": "https://localhost:8080/"
        },
        "id": "oiNZA-h4m8kC",
        "outputId": "b6427ea9-d2c1-4fb3-be98-339e566c4983"
      },
      "execution_count": null,
      "outputs": [
        {
          "output_type": "stream",
          "name": "stdout",
          "text": [
            "Requirement already satisfied: xarray in /usr/local/lib/python3.10/dist-packages (2023.7.0)\n",
            "Requirement already satisfied: numpy>=1.21 in /usr/local/lib/python3.10/dist-packages (from xarray) (1.25.2)\n",
            "Requirement already satisfied: pandas>=1.4 in /usr/local/lib/python3.10/dist-packages (from xarray) (2.0.3)\n",
            "Requirement already satisfied: packaging>=21.3 in /usr/local/lib/python3.10/dist-packages (from xarray) (24.1)\n",
            "Requirement already satisfied: python-dateutil>=2.8.2 in /usr/local/lib/python3.10/dist-packages (from pandas>=1.4->xarray) (2.8.2)\n",
            "Requirement already satisfied: pytz>=2020.1 in /usr/local/lib/python3.10/dist-packages (from pandas>=1.4->xarray) (2023.4)\n",
            "Requirement already satisfied: tzdata>=2022.1 in /usr/local/lib/python3.10/dist-packages (from pandas>=1.4->xarray) (2024.1)\n",
            "Requirement already satisfied: six>=1.5 in /usr/local/lib/python3.10/dist-packages (from python-dateutil>=2.8.2->pandas>=1.4->xarray) (1.16.0)\n"
          ]
        }
      ]
    },
    {
      "cell_type": "code",
      "source": [
        "import xarray as xr"
      ],
      "metadata": {
        "id": "3JrlN3-fnFqu"
      },
      "execution_count": null,
      "outputs": []
    },
    {
      "cell_type": "code",
      "source": [
        "ds = xr.open_dataset('/content/2007_11ERA5.grib', engine='cfgrib')"
      ],
      "metadata": {
        "id": "rkmfT4pPnKmL"
      },
      "execution_count": null,
      "outputs": []
    },
    {
      "cell_type": "code",
      "source": [
        "print(ds)"
      ],
      "metadata": {
        "colab": {
          "base_uri": "https://localhost:8080/"
        },
        "id": "m1vNgquSnXhW",
        "outputId": "67d933fe-4c35-40f2-95e0-a9480f6fb536"
      },
      "execution_count": null,
      "outputs": [
        {
          "output_type": "stream",
          "name": "stdout",
          "text": [
            "<xarray.Dataset>\n",
            "Dimensions:     (time: 43824, latitude: 1, longitude: 2)\n",
            "Coordinates:\n",
            "    number      int64 ...\n",
            "  * time        (time) datetime64[ns] 2007-01-01 ... 2011-12-31T23:00:00\n",
            "    step        timedelta64[ns] ...\n",
            "    surface     float64 ...\n",
            "  * latitude    (latitude) float64 72.7\n",
            "  * longitude   (longitude) float64 37.18 37.43\n",
            "    valid_time  (time) datetime64[ns] ...\n",
            "Data variables:\n",
            "    t2m         (time, latitude, longitude) float32 ...\n",
            "Attributes:\n",
            "    GRIB_edition:            1\n",
            "    GRIB_centre:             ecmf\n",
            "    GRIB_centreDescription:  European Centre for Medium-Range Weather Forecasts\n",
            "    GRIB_subCentre:          0\n",
            "    Conventions:             CF-1.7\n",
            "    institution:             European Centre for Medium-Range Weather Forecasts\n",
            "    history:                 2024-07-15T18:17 GRIB to CDM+CF via cfgrib-0.9.1...\n"
          ]
        }
      ]
    },
    {
      "cell_type": "code",
      "source": [],
      "metadata": {
        "id": "WtKpGutlw3UO"
      },
      "execution_count": null,
      "outputs": []
    },
    {
      "cell_type": "code",
      "source": [
        "df=ds.to_dataframe()"
      ],
      "metadata": {
        "id": "CaKDHwabnaxs"
      },
      "execution_count": null,
      "outputs": []
    },
    {
      "cell_type": "code",
      "source": [
        "print(df)"
      ],
      "metadata": {
        "colab": {
          "base_uri": "https://localhost:8080/"
        },
        "id": "A4pnF2QhnnXe",
        "outputId": "2ef03585-8e4c-49f0-93bc-9962cd75c7b6"
      },
      "execution_count": null,
      "outputs": [
        {
          "output_type": "stream",
          "name": "stdout",
          "text": [
            "                                        number   step  surface  \\\n",
            "time                latitude longitude                           \n",
            "2007-01-01 00:00:00 72.7     37.18           0 0 days      0.0   \n",
            "                             37.43           0 0 days      0.0   \n",
            "2007-01-01 01:00:00 72.7     37.18           0 0 days      0.0   \n",
            "                             37.43           0 0 days      0.0   \n",
            "2007-01-01 02:00:00 72.7     37.18           0 0 days      0.0   \n",
            "...                                        ...    ...      ...   \n",
            "2011-12-31 21:00:00 72.7     37.43           0 0 days      0.0   \n",
            "2011-12-31 22:00:00 72.7     37.18           0 0 days      0.0   \n",
            "                             37.43           0 0 days      0.0   \n",
            "2011-12-31 23:00:00 72.7     37.18           0 0 days      0.0   \n",
            "                             37.43           0 0 days      0.0   \n",
            "\n",
            "                                                valid_time         t2m  \n",
            "time                latitude longitude                                  \n",
            "2007-01-01 00:00:00 72.7     37.18     2007-01-01 00:00:00  275.009644  \n",
            "                             37.43     2007-01-01 00:00:00  274.899414  \n",
            "2007-01-01 01:00:00 72.7     37.18     2007-01-01 01:00:00  275.160492  \n",
            "                             37.43     2007-01-01 01:00:00  275.069855  \n",
            "2007-01-01 02:00:00 72.7     37.18     2007-01-01 02:00:00  275.265930  \n",
            "...                                                    ...         ...  \n",
            "2011-12-31 21:00:00 72.7     37.43     2011-12-31 21:00:00  271.363861  \n",
            "2011-12-31 22:00:00 72.7     37.18     2011-12-31 22:00:00  271.697632  \n",
            "                             37.43     2011-12-31 22:00:00  271.672729  \n",
            "2011-12-31 23:00:00 72.7     37.18     2011-12-31 23:00:00  272.045166  \n",
            "                             37.43     2011-12-31 23:00:00  271.971283  \n",
            "\n",
            "[87648 rows x 5 columns]\n"
          ]
        }
      ]
    }
  ]
}